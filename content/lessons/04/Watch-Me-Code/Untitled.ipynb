{
 "cells": [
  {
   "cell_type": "code",
   "execution_count": 12,
   "metadata": {},
   "outputs": [
    {
     "name": "stdout",
     "output_type": "stream",
     "text": [
      "How much did you make this year? 342786598\n",
      "How many deps? 8723465987\n",
      "Invalid number of dependents.\n"
     ]
    }
   ],
   "source": [
    "try:\n",
    "    amount = float(input(\"How much did you make this year? \"))\n",
    "    deps = int(input(\"How many deps? \"))\n",
    "    if amount <0:\n",
    "        print (\"You dont make enough!\")\n",
    "    elif deps not in [0,1,2,3]:\n",
    "        print(\"Invalid number of dependents.\")\n",
    "    else:\n",
    "        if deps == 0:\n",
    "            tax = .30\n",
    "        elif deps == 1:\n",
    "            tax = .2\n",
    "        else:\n",
    "            tax = .1\n",
    "        taxamount = tax * amount\n",
    "        print(\"You were taxed %.2f\" %(taxamount))\n",
    "except ValueError:\n",
    "    print(\"Hey dummy... a number please!\")\n"
   ]
  },
  {
   "cell_type": "code",
   "execution_count": null,
   "metadata": {},
   "outputs": [],
   "source": []
  }
 ],
 "metadata": {
  "kernelspec": {
   "display_name": "Python 3.6",
   "language": "python",
   "name": "python36"
  },
  "language_info": {
   "codemirror_mode": {
    "name": "ipython",
    "version": 3
   },
   "file_extension": ".py",
   "mimetype": "text/x-python",
   "name": "python",
   "nbconvert_exporter": "python",
   "pygments_lexer": "ipython3",
   "version": "3.6.3"
  }
 },
 "nbformat": 4,
 "nbformat_minor": 2
}
