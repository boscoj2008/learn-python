{
 "cells": [
  {
   "cell_type": "markdown",
   "metadata": {},
   "source": [
    "# In-Class Coding Lab: Lists\n",
    "\n",
    "The goals of this lab are to help you understand:\n",
    "\n",
    " - List indexing and slicing\n",
    " - List methods such as insert, append, find, delete\n",
    " - How to iterate over lists with loops\n",
    " \n",
    "## Python Lists work like Real-Life Lists\n",
    " \n",
    "In real life, we make lists all the time. To-Do lists. Shopping lists. Reading lists.  These lists are collections of items, for example here's my shopping list:\n",
    " \n",
    " ```\n",
    " Milk, Eggs, Bread, Beer\n",
    " ```\n",
    "\n",
    "There are 4 items in this list.\n",
    "\n",
    "Likewise, we can make a similar list in Python, and count the number of items in the list using the `len()` function:"
   ]
  },
  {
   "cell_type": "code",
   "execution_count": 3,
   "metadata": {},
   "outputs": [
    {
     "name": "stdout",
     "output_type": "stream",
     "text": [
      "List: ['Milk', 'Eggs', 'Bread', 'Beer'] has 4 items\n"
     ]
    }
   ],
   "source": [
    "shopping_list = [ 'Milk', 'Eggs', 'Bread', 'Beer']\n",
    "item_count = len(shopping_list)\n",
    "print(\"List: %s has %d items\" % (shopping_list, item_count))"
   ]
  },
  {
   "cell_type": "markdown",
   "metadata": {},
   "source": [
    "## Enumerating Your List Items\n",
    "\n",
    "In real-life, we *enumerate* lists all the time. We go through the items on our list one at a time and make a decision, for example: \"Did I add that to my shopping cart yet?\"\n",
    "\n",
    "In Python we go through items in our lists with the `for` loop. We use `for` because the number of items in pre-determined and thus a **definite** loop is the appropriate choice. \n",
    "\n",
    "Here's an example:"
   ]
  },
  {
   "cell_type": "code",
   "execution_count": 4,
   "metadata": {},
   "outputs": [
    {
     "name": "stdout",
     "output_type": "stream",
     "text": [
      "I need to buy some Milk \n",
      "I need to buy some Eggs \n",
      "I need to buy some Bread \n",
      "I need to buy some Beer \n"
     ]
    }
   ],
   "source": [
    "for item in shopping_list:\n",
    "    print(\"I need to buy some %s \" % (item))"
   ]
  },
  {
   "cell_type": "markdown",
   "metadata": {},
   "source": [
    "## Now You Try It!\n",
    "\n",
    "Write code in the space below to print each stock on its own line."
   ]
  },
  {
   "cell_type": "code",
   "execution_count": 8,
   "metadata": {},
   "outputs": [
    {
     "name": "stdout",
     "output_type": "stream",
     "text": [
      "IBM\n",
      "AAPL\n",
      "GOOG\n",
      "MSFT\n",
      "TWTR\n",
      "FB\n",
      "IBM\n",
      "AAPL\n",
      "GOOG\n",
      "MSFT\n",
      "TWTR\n",
      "FB\n"
     ]
    }
   ],
   "source": [
    "stocks = [ 'IBM', 'AAPL', 'GOOG', 'MSFT', 'TWTR', 'FB']\n",
    "#TODO: Write code here\n",
    "\n",
    "# Pythonic\n",
    "for stock in stocks:\n",
    "    print(stock)\n",
    "    \n",
    "# C / C++ / Java\n",
    "for i in range(len(stocks)):\n",
    "    print(stocks[i])"
   ]
  },
  {
   "cell_type": "markdown",
   "metadata": {},
   "source": [
    "## Indexing Lists\n",
    "\n",
    "Sometimes we refer to our items by their place in the list. For example \"Milk is the first item on the list\" or \"Beer is the last item on the list.\"\n",
    "\n",
    "We can also do this in Python, and it is called *indexing* the list. \n",
    "\n",
    "**IMPORTANT** The first item in a Python lists starts at index **0**."
   ]
  },
  {
   "cell_type": "code",
   "execution_count": 2,
   "metadata": {},
   "outputs": [
    {
     "ename": "NameError",
     "evalue": "name 'shopping_list' is not defined",
     "output_type": "error",
     "traceback": [
      "\u001b[0;31m---------------------------------------------------------------------------\u001b[0m",
      "\u001b[0;31mNameError\u001b[0m                                 Traceback (most recent call last)",
      "\u001b[0;32m<ipython-input-2-04dfb9b43f40>\u001b[0m in \u001b[0;36m<module>\u001b[0;34m()\u001b[0m\n\u001b[0;32m----> 1\u001b[0;31m \u001b[0mprint\u001b[0m\u001b[0;34m(\u001b[0m\u001b[0;34m\"The first item in the list is:\"\u001b[0m\u001b[0;34m,\u001b[0m \u001b[0mshopping_list\u001b[0m\u001b[0;34m[\u001b[0m\u001b[0;36m0\u001b[0m\u001b[0;34m]\u001b[0m\u001b[0;34m)\u001b[0m\u001b[0;34m\u001b[0m\u001b[0m\n\u001b[0m\u001b[1;32m      2\u001b[0m \u001b[0mprint\u001b[0m\u001b[0;34m(\u001b[0m\u001b[0;34m\"The last item in the list is:\"\u001b[0m\u001b[0;34m,\u001b[0m \u001b[0mshopping_list\u001b[0m\u001b[0;34m[\u001b[0m\u001b[0;36m3\u001b[0m\u001b[0;34m]\u001b[0m\u001b[0;34m)\u001b[0m\u001b[0;34m\u001b[0m\u001b[0m\n\u001b[1;32m      3\u001b[0m \u001b[0mprint\u001b[0m\u001b[0;34m(\u001b[0m\u001b[0;34m\"This is also the last item in the list:\"\u001b[0m\u001b[0;34m,\u001b[0m \u001b[0mshopping_list\u001b[0m\u001b[0;34m[\u001b[0m\u001b[0;34m-\u001b[0m\u001b[0;36m1\u001b[0m\u001b[0;34m]\u001b[0m\u001b[0;34m)\u001b[0m\u001b[0;34m\u001b[0m\u001b[0m\n\u001b[1;32m      4\u001b[0m \u001b[0mprint\u001b[0m\u001b[0;34m(\u001b[0m\u001b[0;34m\"This is the second to last item in the list:\"\u001b[0m\u001b[0;34m,\u001b[0m \u001b[0mshopping_list\u001b[0m\u001b[0;34m[\u001b[0m\u001b[0;34m-\u001b[0m\u001b[0;36m2\u001b[0m\u001b[0;34m]\u001b[0m\u001b[0;34m)\u001b[0m\u001b[0;34m\u001b[0m\u001b[0m\n",
      "\u001b[0;31mNameError\u001b[0m: name 'shopping_list' is not defined"
     ]
    }
   ],
   "source": [
    "print(\"The first item in the list is:\", shopping_list[0]) \n",
    "print(\"The last item in the list is:\", shopping_list[3])   \n",
    "print(\"This is also the last item in the list:\", shopping_list[-1])  \n",
    "print(\"This is the second to last item in the list:\", shopping_list[-2])\n"
   ]
  },
  {
   "cell_type": "markdown",
   "metadata": {},
   "source": [
    "## For Loop with Index\n",
    "\n",
    "You can also loop through your Python list using an index. In this case we use the `range()` function to determine how many times we should loop:"
   ]
  },
  {
   "cell_type": "code",
   "execution_count": 9,
   "metadata": {},
   "outputs": [
    {
     "name": "stdout",
     "output_type": "stream",
     "text": [
      "I need to buy some Milk \n",
      "I need to buy some Eggs \n",
      "I need to buy some Bread \n",
      "I need to buy some Beer \n"
     ]
    }
   ],
   "source": [
    "for i in range(len(shopping_list)):\n",
    "    print(\"I need to buy some %s \" % (shopping_list[i]))"
   ]
  },
  {
   "cell_type": "markdown",
   "metadata": {},
   "source": [
    "## Now You Try It!\n",
    "\n",
    "Write code to print the 2nd and 4th stocks in the list variable `stocks`. For example:\n",
    "\n",
    "`AAPL MSFT`"
   ]
  },
  {
   "cell_type": "code",
   "execution_count": 10,
   "metadata": {},
   "outputs": [
    {
     "name": "stdout",
     "output_type": "stream",
     "text": [
      "AAPL MSFT\n"
     ]
    }
   ],
   "source": [
    "#TODO: Write code here\n",
    "print(stocks[1], stocks[3])\n"
   ]
  },
  {
   "cell_type": "markdown",
   "metadata": {},
   "source": [
    "## Lists are Mutable\n",
    "\n",
    "Unlike strings, lists are mutable. This means we can change a value in the list.\n",
    "\n",
    "For example, I want `'Craft Beer'` not just `'Beer'`:"
   ]
  },
  {
   "cell_type": "code",
   "execution_count": 11,
   "metadata": {},
   "outputs": [
    {
     "name": "stdout",
     "output_type": "stream",
     "text": [
      "['Milk', 'Eggs', 'Bread', 'Beer']\n",
      "['Milk', 'Eggs', 'Bread', 'Craft Beer']\n"
     ]
    }
   ],
   "source": [
    "print(shopping_list)\n",
    "shopping_list[-1] = 'Craft Beer'\n",
    "print(shopping_list)"
   ]
  },
  {
   "cell_type": "markdown",
   "metadata": {},
   "source": [
    "## List Methods\n",
    "\n",
    "In your readings and class lecture, you encountered some list methods. These allow us to maniupulate the list by adding or removing items."
   ]
  },
  {
   "cell_type": "code",
   "execution_count": 12,
   "metadata": {},
   "outputs": [
    {
     "name": "stdout",
     "output_type": "stream",
     "text": [
      "Shopping List: ['Milk', 'Eggs', 'Bread', 'Craft Beer']\n",
      "Adding 'Cheese' to the end of the list...\n",
      "Shopping List: ['Milk', 'Eggs', 'Bread', 'Craft Beer', 'Cheese']\n",
      "Adding 'Cereal' to position 0  in the list...\n",
      "Shopping List: ['Cereal', 'Milk', 'Eggs', 'Bread', 'Craft Beer', 'Cheese']\n",
      "Removing 'Cheese' from the list...\n",
      "Shopping List: ['Cereal', 'Milk', 'Eggs', 'Bread', 'Craft Beer']\n",
      "Removing item from position 0 in the list...\n",
      "Shopping List: ['Milk', 'Eggs', 'Bread', 'Craft Beer']\n"
     ]
    }
   ],
   "source": [
    "print(\"Shopping List: %s\" %(shopping_list))\n",
    "\n",
    "print(\"Adding 'Cheese' to the end of the list...\")\n",
    "shopping_list.append('Cheese')  #add to end of list\n",
    "print(\"Shopping List: %s\" %(shopping_list))\n",
    "\n",
    "print(\"Adding 'Cereal' to position 0  in the list...\")\n",
    "shopping_list.insert(0,'Cereal') # add to the beginning of the list (position 0)\n",
    "print(\"Shopping List: %s\" %(shopping_list))\n",
    "\n",
    "print(\"Removing 'Cheese' from the list...\")\n",
    "shopping_list.remove('Cheese')  # remove 'Cheese' from the list\n",
    "print(\"Shopping List: %s\" %(shopping_list))\n",
    "\n",
    "print(\"Removing item from position 0 in the list...\")\n",
    "del shopping_list[0]   # remove item at position 0\n",
    "print(\"Shopping List: %s\" %(shopping_list))\n"
   ]
  },
  {
   "cell_type": "markdown",
   "metadata": {},
   "source": [
    "## Now You Try It!\n",
    "\n",
    "Write a program to remove the following stocks: `IBM` and `TWTR`\n",
    "\n",
    "Then add this stock to the end `NFLX` and this stock to the beginning `TSLA`\n",
    "\n",
    "Print your list when you are done. It should look like this:\n",
    "\n",
    "`['TSLA', 'AAPL', 'GOOG', 'MSFT', 'FB', 'NFLX']`\n"
   ]
  },
  {
   "cell_type": "code",
   "execution_count": 16,
   "metadata": {},
   "outputs": [
    {
     "name": "stdout",
     "output_type": "stream",
     "text": [
      "['AAPL', 'GOOG', 'MSFT', 'FB']\n",
      "['TSLA', 'AAPL', 'GOOG', 'MSFT', 'FB', 'NFLX']\n"
     ]
    }
   ],
   "source": [
    "# TODO: Write Code here\n",
    "stocks = [ 'IBM', 'AAPL', 'GOOG', 'MSFT', 'TWTR', 'FB']\n",
    "stocks.remove('IBM')\n",
    "stocks.remove('TWTR')\n",
    "print(stocks)\n",
    "stocks.append('NFLX')\n",
    "stocks.insert(0, 'TSLA')\n",
    "print(stocks)"
   ]
  },
  {
   "cell_type": "markdown",
   "metadata": {},
   "source": [
    "## Sorting\n",
    "\n",
    "Since Lists are mutable. You can use the `sort()` method to re-arrange the items in the list alphabetically (or numerically if it's a list of numbers)"
   ]
  },
  {
   "cell_type": "code",
   "execution_count": 17,
   "metadata": {},
   "outputs": [
    {
     "name": "stdout",
     "output_type": "stream",
     "text": [
      "Before Sort: ['Milk', 'Eggs', 'Bread', 'Craft Beer']\n",
      "After Sort: ['Bread', 'Craft Beer', 'Eggs', 'Milk']\n"
     ]
    }
   ],
   "source": [
    "print(\"Before Sort:\", shopping_list)\n",
    "shopping_list.sort() \n",
    "print(\"After Sort:\", shopping_list)"
   ]
  },
  {
   "cell_type": "markdown",
   "metadata": {},
   "source": [
    "# Putting it all together\n",
    "\n",
    "Winning Lotto numbers. When the lotto numbers are drawn, they are in any order, when they are presented they're allways sorted. Let's write a program to input 5 numbers then output them sorted\n",
    "\n",
    "```\n",
    "1. for i in range(5)\n",
    "2.    input a number\n",
    "3.    append the number you input to the lotto_numbers list\n",
    "4. sort the lotto_numbers list\n",
    "5. print the lotto_numbers list like this: \n",
    "   'today's winning numbers are [1, 5, 17, 34, 56]'\n",
    "```"
   ]
  },
  {
   "cell_type": "code",
   "execution_count": 21,
   "metadata": {},
   "outputs": [
    {
     "name": "stdout",
     "output_type": "stream",
     "text": [
      "[18, 23, 28, 65, 70]\n"
     ]
    }
   ],
   "source": [
    "## TODO: Write program here:\n",
    "import random \n",
    "lotto_numbers = []  # start with an empty list\n",
    "while True:\n",
    "    pick = random.randint(1,80)\n",
    "    if pick not in lotto_numbers:\n",
    "        lotto_numbers.append(pick)\n",
    "\n",
    "    if len(lotto_numbers) == 5:\n",
    "        break\n",
    "\n",
    "lotto_numbers.sort()\n",
    "print(lotto_numbers)\n"
   ]
  },
  {
   "cell_type": "code",
   "execution_count": 28,
   "metadata": {},
   "outputs": [
    {
     "data": {
      "text/plain": [
       "['TSLA', 'AAPL', 'GOOG', 'MSFT', 'NFLX']"
      ]
     },
     "execution_count": 28,
     "metadata": {},
     "output_type": "execute_result"
    }
   ],
   "source": [
    "s2 = [s for s in stocks if len(s)==4]\n",
    "\n",
    "s2 = []\n",
    "for s in stocks:\n",
    "    if len(s) == 4:\n",
    "        s2.append(s)\n",
    "        \n",
    "        \n"
   ]
  },
  {
   "cell_type": "code",
   "execution_count": 27,
   "metadata": {},
   "outputs": [
    {
     "data": {
      "text/plain": [
       "[1,\n",
       " 9,\n",
       " 25,\n",
       " 49,\n",
       " 81,\n",
       " 121,\n",
       " 169,\n",
       " 225,\n",
       " 289,\n",
       " 361,\n",
       " 441,\n",
       " 529,\n",
       " 625,\n",
       " 729,\n",
       " 841,\n",
       " 961,\n",
       " 1089,\n",
       " 1225,\n",
       " 1369,\n",
       " 1521,\n",
       " 1681,\n",
       " 1849,\n",
       " 2025,\n",
       " 2209,\n",
       " 2401,\n",
       " 2601,\n",
       " 2809,\n",
       " 3025,\n",
       " 3249,\n",
       " 3481,\n",
       " 3721,\n",
       " 3969,\n",
       " 4225,\n",
       " 4489,\n",
       " 4761,\n",
       " 5041,\n",
       " 5329,\n",
       " 5625,\n",
       " 5929,\n",
       " 6241,\n",
       " 6561,\n",
       " 6889,\n",
       " 7225,\n",
       " 7569,\n",
       " 7921,\n",
       " 8281,\n",
       " 8649,\n",
       " 9025,\n",
       " 9409,\n",
       " 9801]"
      ]
     },
     "execution_count": 27,
     "metadata": {},
     "output_type": "execute_result"
    }
   ],
   "source": [
    "x = [x**2 for x in range(0,100) if x%2==1]"
   ]
  },
  {
   "cell_type": "code",
   "execution_count": 35,
   "metadata": {},
   "outputs": [],
   "source": [
    "mstockscount = len([ stock for stock in stocks if stock.startswith(\"M\")])"
   ]
  },
  {
   "cell_type": "code",
   "execution_count": 36,
   "metadata": {},
   "outputs": [
    {
     "data": {
      "text/plain": [
       "1"
      ]
     },
     "execution_count": 36,
     "metadata": {},
     "output_type": "execute_result"
    }
   ],
   "source": [
    "mstockscount"
   ]
  },
  {
   "cell_type": "code",
   "execution_count": 34,
   "metadata": {},
   "outputs": [
    {
     "ename": "TypeError",
     "evalue": "count() takes exactly one argument (0 given)",
     "output_type": "error",
     "traceback": [
      "\u001b[0;31m---------------------------------------------------------------------------\u001b[0m",
      "\u001b[0;31mTypeError\u001b[0m                                 Traceback (most recent call last)",
      "\u001b[0;32m<ipython-input-34-0b27d57f5bd9>\u001b[0m in \u001b[0;36m<module>\u001b[0;34m()\u001b[0m\n\u001b[0;32m----> 1\u001b[0;31m \u001b[0mmstocks\u001b[0m\u001b[0;34m.\u001b[0m\u001b[0mcount\u001b[0m\u001b[0;34m(\u001b[0m\u001b[0;34m)\u001b[0m\u001b[0;34m\u001b[0m\u001b[0m\n\u001b[0m",
      "\u001b[0;31mTypeError\u001b[0m: count() takes exactly one argument (0 given)"
     ]
    }
   ],
   "source": [
    "mstocks.count("
   ]
  },
  {
   "cell_type": "code",
   "execution_count": null,
   "metadata": {},
   "outputs": [],
   "source": []
  }
 ],
 "metadata": {
  "anaconda-cloud": {},
  "kernelspec": {
   "display_name": "Python 3",
   "language": "python",
   "name": "python3"
  },
  "language_info": {
   "codemirror_mode": {
    "name": "ipython",
    "version": 3
   },
   "file_extension": ".py",
   "mimetype": "text/x-python",
   "name": "python",
   "nbconvert_exporter": "python",
   "pygments_lexer": "ipython3",
   "version": "3.5.4"
  }
 },
 "nbformat": 4,
 "nbformat_minor": 1
}
