{
 "cells": [
  {
   "cell_type": "markdown",
   "metadata": {},
   "source": [
    "# Watch Me Code 1: Superhero Movies\n",
    "\n",
    "https://raw.githubusercontent.com/mafudge/datasets/master/superhero/superhero-movie-dataset-1978-2012.csv\n",
    "\n",
    "COLUMNS year, title, comic, imdb, rt, composite, opening_weeked_bo, avg_ticket_price, opening_weekend_attend, us_pop_that_year\n",
    "\n",
    "- read_csv file from web\n",
    "- no column names\n",
    "- head(), sample()\n",
    "- value_counts\n",
    "- dealing with nulls\n",
    "- Feature engineering\n"
   ]
  },
  {
   "cell_type": "code",
   "execution_count": 11,
   "metadata": {},
   "outputs": [
    {
     "data": {
      "text/html": [
       "<div>\n",
       "<table border=\"1\" class=\"dataframe\">\n",
       "  <thead>\n",
       "    <tr style=\"text-align: right;\">\n",
       "      <th></th>\n",
       "      <th>year</th>\n",
       "      <th>title</th>\n",
       "      <th>comic</th>\n",
       "      <th>imdb</th>\n",
       "      <th>rt</th>\n",
       "      <th>composite</th>\n",
       "      <th>opening_weeked_bo</th>\n",
       "      <th>avg_ticket_price</th>\n",
       "      <th>opening_weekend_attend</th>\n",
       "      <th>us_pop_that_year</th>\n",
       "    </tr>\n",
       "  </thead>\n",
       "  <tbody>\n",
       "    <tr>\n",
       "      <th>0</th>\n",
       "      <td>1978</td>\n",
       "      <td>Superman</td>\n",
       "      <td>DC</td>\n",
       "      <td>7.3</td>\n",
       "      <td>95</td>\n",
       "      <td>84.0</td>\n",
       "      <td>7465343.0</td>\n",
       "      <td>2.34</td>\n",
       "      <td>3190317.521</td>\n",
       "      <td>222584545</td>\n",
       "    </tr>\n",
       "    <tr>\n",
       "      <th>1</th>\n",
       "      <td>1980</td>\n",
       "      <td>Superman II</td>\n",
       "      <td>DC</td>\n",
       "      <td>6.7</td>\n",
       "      <td>88</td>\n",
       "      <td>77.5</td>\n",
       "      <td>14100523.0</td>\n",
       "      <td>2.69</td>\n",
       "      <td>5241830.112</td>\n",
       "      <td>227224681</td>\n",
       "    </tr>\n",
       "    <tr>\n",
       "      <th>2</th>\n",
       "      <td>1982</td>\n",
       "      <td>Swamp Thing</td>\n",
       "      <td>DC</td>\n",
       "      <td>5.3</td>\n",
       "      <td>60</td>\n",
       "      <td>56.5</td>\n",
       "      <td>NaN</td>\n",
       "      <td>2.94</td>\n",
       "      <td>NaN</td>\n",
       "      <td>231664458</td>\n",
       "    </tr>\n",
       "    <tr>\n",
       "      <th>3</th>\n",
       "      <td>1983</td>\n",
       "      <td>Superman III</td>\n",
       "      <td>DC</td>\n",
       "      <td>4.9</td>\n",
       "      <td>24</td>\n",
       "      <td>36.5</td>\n",
       "      <td>13352357.0</td>\n",
       "      <td>3.15</td>\n",
       "      <td>4238843.492</td>\n",
       "      <td>233791994</td>\n",
       "    </tr>\n",
       "    <tr>\n",
       "      <th>4</th>\n",
       "      <td>1984</td>\n",
       "      <td>Supergirl</td>\n",
       "      <td>DC</td>\n",
       "      <td>4.2</td>\n",
       "      <td>8</td>\n",
       "      <td>25.0</td>\n",
       "      <td>5738249.0</td>\n",
       "      <td>3.36</td>\n",
       "      <td>1707812.202</td>\n",
       "      <td>235824902</td>\n",
       "    </tr>\n",
       "  </tbody>\n",
       "</table>\n",
       "</div>"
      ],
      "text/plain": [
       "   year         title comic  imdb  rt  composite  opening_weeked_bo  \\\n",
       "0  1978      Superman    DC   7.3  95       84.0          7465343.0   \n",
       "1  1980   Superman II    DC   6.7  88       77.5         14100523.0   \n",
       "2  1982   Swamp Thing    DC   5.3  60       56.5                NaN   \n",
       "3  1983  Superman III    DC   4.9  24       36.5         13352357.0   \n",
       "4  1984     Supergirl    DC   4.2   8       25.0          5738249.0   \n",
       "\n",
       "   avg_ticket_price  opening_weekend_attend  us_pop_that_year  \n",
       "0              2.34             3190317.521         222584545  \n",
       "1              2.69             5241830.112         227224681  \n",
       "2              2.94                     NaN         231664458  \n",
       "3              3.15             4238843.492         233791994  \n",
       "4              3.36             1707812.202         235824902  "
      ]
     },
     "execution_count": 11,
     "metadata": {},
     "output_type": "execute_result"
    }
   ],
   "source": [
    "import pandas as pd\n",
    "\n",
    "sh = pd.read_csv('https://raw.githubusercontent.com/mafudge/datasets/master/superhero/superhero-movie-dataset-1978-2012.csv',\n",
    "                names = ['year', 'title', 'comic', 'imdb', 'rt', 'composite', 'opening_weeked_bo', 'avg_ticket_price', 'opening_weekend_attend', 'us_pop_that_year'])\n",
    "sh.head()"
   ]
  },
  {
   "cell_type": "code",
   "execution_count": 10,
   "metadata": {},
   "outputs": [
    {
     "data": {
      "text/html": [
       "<div>\n",
       "<table border=\"1\" class=\"dataframe\">\n",
       "  <thead>\n",
       "    <tr style=\"text-align: right;\">\n",
       "      <th></th>\n",
       "      <th>year</th>\n",
       "      <th>title</th>\n",
       "      <th>comic</th>\n",
       "      <th>imdb</th>\n",
       "      <th>rt</th>\n",
       "      <th>composite</th>\n",
       "      <th>opening_weeked_bo</th>\n",
       "      <th>avg_ticket_price</th>\n",
       "      <th>opening_weekend_attend</th>\n",
       "      <th>us_pop_that_year</th>\n",
       "    </tr>\n",
       "  </thead>\n",
       "  <tbody>\n",
       "    <tr>\n",
       "      <th>0</th>\n",
       "      <td>1980</td>\n",
       "      <td>Superman II</td>\n",
       "      <td>DC</td>\n",
       "      <td>6.7</td>\n",
       "      <td>88</td>\n",
       "      <td>77.5</td>\n",
       "      <td>14100523.0</td>\n",
       "      <td>2.69</td>\n",
       "      <td>5241830.112</td>\n",
       "      <td>227224681</td>\n",
       "    </tr>\n",
       "    <tr>\n",
       "      <th>1</th>\n",
       "      <td>1982</td>\n",
       "      <td>Swamp Thing</td>\n",
       "      <td>DC</td>\n",
       "      <td>5.3</td>\n",
       "      <td>60</td>\n",
       "      <td>56.5</td>\n",
       "      <td>NaN</td>\n",
       "      <td>2.94</td>\n",
       "      <td>NaN</td>\n",
       "      <td>231664458</td>\n",
       "    </tr>\n",
       "    <tr>\n",
       "      <th>2</th>\n",
       "      <td>1983</td>\n",
       "      <td>Superman III</td>\n",
       "      <td>DC</td>\n",
       "      <td>4.9</td>\n",
       "      <td>24</td>\n",
       "      <td>36.5</td>\n",
       "      <td>13352357.0</td>\n",
       "      <td>3.15</td>\n",
       "      <td>4238843.492</td>\n",
       "      <td>233791994</td>\n",
       "    </tr>\n",
       "    <tr>\n",
       "      <th>3</th>\n",
       "      <td>1984</td>\n",
       "      <td>Supergirl</td>\n",
       "      <td>DC</td>\n",
       "      <td>4.2</td>\n",
       "      <td>8</td>\n",
       "      <td>25.0</td>\n",
       "      <td>5738249.0</td>\n",
       "      <td>3.36</td>\n",
       "      <td>1707812.202</td>\n",
       "      <td>235824902</td>\n",
       "    </tr>\n",
       "    <tr>\n",
       "      <th>4</th>\n",
       "      <td>1986</td>\n",
       "      <td>Howard the Duck</td>\n",
       "      <td>Marvel</td>\n",
       "      <td>4.3</td>\n",
       "      <td>16</td>\n",
       "      <td>29.5</td>\n",
       "      <td>5070136.0</td>\n",
       "      <td>3.71</td>\n",
       "      <td>1366613.477</td>\n",
       "      <td>240132887</td>\n",
       "    </tr>\n",
       "  </tbody>\n",
       "</table>\n",
       "</div>"
      ],
      "text/plain": [
       "   year            title   comic  imdb  rt  composite  opening_weeked_bo  \\\n",
       "0  1980      Superman II      DC   6.7  88       77.5         14100523.0   \n",
       "1  1982      Swamp Thing      DC   5.3  60       56.5                NaN   \n",
       "2  1983     Superman III      DC   4.9  24       36.5         13352357.0   \n",
       "3  1984        Supergirl      DC   4.2   8       25.0          5738249.0   \n",
       "4  1986  Howard the Duck  Marvel   4.3  16       29.5          5070136.0   \n",
       "\n",
       "   avg_ticket_price  opening_weekend_attend  us_pop_that_year  \n",
       "0              2.69             5241830.112         227224681  \n",
       "1              2.94                     NaN         231664458  \n",
       "2              3.15             4238843.492         233791994  \n",
       "3              3.36             1707812.202         235824902  \n",
       "4              3.71             1366613.477         240132887  "
      ]
     },
     "execution_count": 10,
     "metadata": {},
     "output_type": "execute_result"
    }
   ],
   "source": [
    "# no columns? no sweat!\n",
    "sh.columns = [ 'year', 'title', 'comic', 'imdb', 'rt', 'composite', 'opening_weeked_bo', 'avg_ticket_price', 'opening_weekend_attend', 'us_pop_that_year']\n",
    "sh.head()"
   ]
  },
  {
   "cell_type": "code",
   "execution_count": 12,
   "metadata": {},
   "outputs": [
    {
     "data": {
      "text/plain": [
       "Marvel    29\n",
       "DC        20\n",
       "Name: comic, dtype: int64"
      ]
     },
     "execution_count": 12,
     "metadata": {},
     "output_type": "execute_result"
    }
   ],
   "source": [
    "## Who has more movies? DC or Marvel?\n",
    "sh['comic'].value_counts()"
   ]
  },
  {
   "cell_type": "code",
   "execution_count": 13,
   "metadata": {},
   "outputs": [
    {
     "data": {
      "text/plain": [
       "Marvel    0.591837\n",
       "DC        0.408163\n",
       "Name: comic, dtype: float64"
      ]
     },
     "execution_count": 13,
     "metadata": {},
     "output_type": "execute_result"
    }
   ],
   "source": [
    "## let's see that as a percentage of the total\n",
    "sh['comic'].value_counts(normalize=True)"
   ]
  },
  {
   "cell_type": "code",
   "execution_count": 14,
   "metadata": {},
   "outputs": [
    {
     "data": {
      "text/plain": [
       "Marvel    0.741935\n",
       "DC        0.258065\n",
       "Name: comic, dtype: float64"
      ]
     },
     "execution_count": 14,
     "metadata": {},
     "output_type": "execute_result"
    }
   ],
   "source": [
    "## what are the ratios in the last 10 years of data ?\n",
    "sh[ sh['year'] >2002]['comic'].value_counts(normalize=True)"
   ]
  },
  {
   "cell_type": "code",
   "execution_count": 16,
   "metadata": {},
   "outputs": [
    {
     "data": {
      "text/plain": [
       "DC        6\n",
       "Marvel    1\n",
       "Name: comic, dtype: int64"
      ]
     },
     "execution_count": 16,
     "metadata": {},
     "output_type": "execute_result"
    }
   ],
   "source": [
    "# what about the first 10 years of data? 1978 - 1987?\n",
    "sh[ sh['year'] < 1988]['comic'].value_counts()"
   ]
  },
  {
   "cell_type": "code",
   "execution_count": 22,
   "metadata": {},
   "outputs": [
    {
     "data": {
      "text/plain": [
       "year                      49\n",
       "title                     49\n",
       "comic                     49\n",
       "imdb                      49\n",
       "rt                        49\n",
       "composite                 49\n",
       "opening_weeked_bo         46\n",
       "avg_ticket_price          49\n",
       "opening_weekend_attend    46\n",
       "us_pop_that_year          49\n",
       "dtype: int64"
      ]
     },
     "execution_count": 22,
     "metadata": {},
     "output_type": "execute_result"
    }
   ],
   "source": [
    "sh.count()"
   ]
  },
  {
   "cell_type": "code",
   "execution_count": 23,
   "metadata": {},
   "outputs": [
    {
     "data": {
      "text/plain": [
       "year                      46\n",
       "title                     46\n",
       "comic                     46\n",
       "imdb                      46\n",
       "rt                        46\n",
       "composite                 46\n",
       "opening_weeked_bo         46\n",
       "avg_ticket_price          46\n",
       "opening_weekend_attend    46\n",
       "us_pop_that_year          46\n",
       "dtype: int64"
      ]
     },
     "execution_count": 23,
     "metadata": {},
     "output_type": "execute_result"
    }
   ],
   "source": [
    "## skip nulls in analysis\n",
    "sh2 = sh.dropna()\n",
    "sh2.count()"
   ]
  },
  {
   "cell_type": "code",
   "execution_count": 26,
   "metadata": {},
   "outputs": [
    {
     "name": "stderr",
     "output_type": "stream",
     "text": [
      "/home/nbuser/anaconda3_420/lib/python3.5/site-packages/ipykernel/__main__.py:2: SettingWithCopyWarning: \n",
      "A value is trying to be set on a copy of a slice from a DataFrame.\n",
      "Try using .loc[row_indexer,col_indexer] = value instead\n",
      "\n",
      "See the caveats in the documentation: http://pandas.pydata.org/pandas-docs/stable/indexing.html#indexing-view-versus-copy\n",
      "  from ipykernel import kernelapp as app\n"
     ]
    },
    {
     "data": {
      "text/html": [
       "<div>\n",
       "<table border=\"1\" class=\"dataframe\">\n",
       "  <thead>\n",
       "    <tr style=\"text-align: right;\">\n",
       "      <th></th>\n",
       "      <th>year</th>\n",
       "      <th>title</th>\n",
       "      <th>comic</th>\n",
       "      <th>imdb</th>\n",
       "      <th>rt</th>\n",
       "      <th>composite</th>\n",
       "      <th>opening_weeked_bo</th>\n",
       "      <th>avg_ticket_price</th>\n",
       "      <th>opening_weekend_attend</th>\n",
       "      <th>us_pop_that_year</th>\n",
       "      <th>pct_of_pop</th>\n",
       "    </tr>\n",
       "  </thead>\n",
       "  <tbody>\n",
       "    <tr>\n",
       "      <th>44</th>\n",
       "      <td>2011</td>\n",
       "      <td>X-Men: First Class</td>\n",
       "      <td>Marvel</td>\n",
       "      <td>7.9</td>\n",
       "      <td>87</td>\n",
       "      <td>83.0</td>\n",
       "      <td>55101604.0</td>\n",
       "      <td>7.93</td>\n",
       "      <td>6.948500e+06</td>\n",
       "      <td>311591917</td>\n",
       "      <td>2.230000</td>\n",
       "    </tr>\n",
       "    <tr>\n",
       "      <th>45</th>\n",
       "      <td>2012</td>\n",
       "      <td>Marvel's The Avengers</td>\n",
       "      <td>Marvel</td>\n",
       "      <td>8.7</td>\n",
       "      <td>92</td>\n",
       "      <td>89.5</td>\n",
       "      <td>207438708.0</td>\n",
       "      <td>7.92</td>\n",
       "      <td>2.619176e+07</td>\n",
       "      <td>314055984</td>\n",
       "      <td>8.339837</td>\n",
       "    </tr>\n",
       "    <tr>\n",
       "      <th>46</th>\n",
       "      <td>2012</td>\n",
       "      <td>The Dark Knight Rises</td>\n",
       "      <td>DC</td>\n",
       "      <td>9.1</td>\n",
       "      <td>86</td>\n",
       "      <td>88.5</td>\n",
       "      <td>160887295.0</td>\n",
       "      <td>7.92</td>\n",
       "      <td>2.031405e+07</td>\n",
       "      <td>314055984</td>\n",
       "      <td>6.468290</td>\n",
       "    </tr>\n",
       "    <tr>\n",
       "      <th>47</th>\n",
       "      <td>2012</td>\n",
       "      <td>Ghost Rider: Spirit of Vengeance</td>\n",
       "      <td>Marvel</td>\n",
       "      <td>4.5</td>\n",
       "      <td>17</td>\n",
       "      <td>31.0</td>\n",
       "      <td>22115334.0</td>\n",
       "      <td>7.92</td>\n",
       "      <td>2.792340e+06</td>\n",
       "      <td>314055984</td>\n",
       "      <td>0.889122</td>\n",
       "    </tr>\n",
       "    <tr>\n",
       "      <th>48</th>\n",
       "      <td>2012</td>\n",
       "      <td>The Amazing Spider-Man</td>\n",
       "      <td>Marvel</td>\n",
       "      <td>7.6</td>\n",
       "      <td>74</td>\n",
       "      <td>75.0</td>\n",
       "      <td>62004688.0</td>\n",
       "      <td>7.92</td>\n",
       "      <td>7.828875e+06</td>\n",
       "      <td>314055984</td>\n",
       "      <td>2.492828</td>\n",
       "    </tr>\n",
       "  </tbody>\n",
       "</table>\n",
       "</div>"
      ],
      "text/plain": [
       "    year                             title   comic  imdb  rt  composite  \\\n",
       "44  2011                X-Men: First Class  Marvel   7.9  87       83.0   \n",
       "45  2012             Marvel's The Avengers  Marvel   8.7  92       89.5   \n",
       "46  2012             The Dark Knight Rises      DC   9.1  86       88.5   \n",
       "47  2012  Ghost Rider: Spirit of Vengeance  Marvel   4.5  17       31.0   \n",
       "48  2012            The Amazing Spider-Man  Marvel   7.6  74       75.0   \n",
       "\n",
       "    opening_weeked_bo  avg_ticket_price  opening_weekend_attend  \\\n",
       "44         55101604.0              7.93            6.948500e+06   \n",
       "45        207438708.0              7.92            2.619176e+07   \n",
       "46        160887295.0              7.92            2.031405e+07   \n",
       "47         22115334.0              7.92            2.792340e+06   \n",
       "48         62004688.0              7.92            7.828875e+06   \n",
       "\n",
       "    us_pop_that_year  pct_of_pop  \n",
       "44         311591917    2.230000  \n",
       "45         314055984    8.339837  \n",
       "46         314055984    6.468290  \n",
       "47         314055984    0.889122  \n",
       "48         314055984    2.492828  "
      ]
     },
     "execution_count": 26,
     "metadata": {},
     "output_type": "execute_result"
    }
   ],
   "source": [
    "# feature engineering\n",
    "sh2['pct_of_pop'] = 100* sh2['opening_weekend_attend'] /sh2['us_pop_that_year']\n",
    "sh2.tail()"
   ]
  },
  {
   "cell_type": "code",
   "execution_count": 31,
   "metadata": {},
   "outputs": [],
   "source": [
    "# Marvel comics with highest opening_weeked_bo\n",
    "stuff = sh2[ sh2['comic'] == 'Marvel' ].sort_values('opening_weeked_bo').tail()\n",
    "stuff.to_excel('stuff.xlsx', verbose=False, index=False)"
   ]
  },
  {
   "cell_type": "code",
   "execution_count": null,
   "metadata": {},
   "outputs": [],
   "source": []
  }
 ],
 "metadata": {
  "anaconda-cloud": {},
  "kernelspec": {
   "display_name": "Python 3",
   "language": "python",
   "name": "python3"
  },
  "language_info": {
   "codemirror_mode": {
    "name": "ipython",
    "version": 3
   },
   "file_extension": ".py",
   "mimetype": "text/x-python",
   "name": "python",
   "nbconvert_exporter": "python",
   "pygments_lexer": "ipython3",
   "version": "3.5.4"
  }
 },
 "nbformat": 4,
 "nbformat_minor": 1
}
