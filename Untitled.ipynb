{
 "cells": [
  {
   "cell_type": "code",
   "execution_count": 1,
   "metadata": {},
   "outputs": [
    {
     "name": "stdout",
     "output_type": "stream",
     "text": [
      "Enter something! This is words\n",
      "I wrote This is words to the file file.txt\n"
     ]
    }
   ],
   "source": [
    "text = input(\"Enter something! \")\n",
    "filename = \"file.txt\"\n",
    "with open(filename,'w') as out_file:\n",
    "    out_file.write(text)\n",
    "    print(\"I wrote \" + text + \" to the file \" + filename)\n",
    "    "
   ]
  },
  {
   "cell_type": "code",
   "execution_count": 2,
   "metadata": {},
   "outputs": [
    {
     "name": "stdout",
     "output_type": "stream",
     "text": [
      "This is words\n",
      "This is only words\n",
      "There are just words\n",
      "Mike\n"
     ]
    }
   ],
   "source": [
    "with open(filename, 'r') as in_file:\n",
    "    text = in_file.read()\n",
    "    \n",
    "print(text)"
   ]
  },
  {
   "cell_type": "code",
   "execution_count": 7,
   "metadata": {},
   "outputs": [
    {
     "name": "stdout",
     "output_type": "stream",
     "text": [
      "Enter your quiz grade or QUIT: 100\n",
      "Enter your quiz grade or QUIT: 90\n",
      "Enter your quiz grade or QUIT: 85\n",
      "Enter your quiz grade or QUIT: quit\n"
     ]
    }
   ],
   "source": [
    "with open ('grades.txt','w') as new_file:\n",
    "    pass\n",
    "\n",
    "while True:\n",
    "    raw_grade = input(\"Enter your quiz grade or QUIT: \")\n",
    "    if raw_grade.upper() == 'QUIT':\n",
    "        break\n",
    "    with open ('grades.txt','a') as append_file:\n",
    "        append_file.write(raw_grade + '\\n')"
   ]
  },
  {
   "cell_type": "code",
   "execution_count": 14,
   "metadata": {},
   "outputs": [
    {
     "name": "stdout",
     "output_type": "stream",
     "text": [
      "Average:  100.0\n"
     ]
    }
   ],
   "source": [
    "count = 0\n",
    "total = 0\n",
    "with open ('grades.txt','r') as input_grades:\n",
    "    for raw_grade in input_grades.readlines():\n",
    "        grade = int(raw_grade)\n",
    "        total += grade\n",
    "        count +=1\n",
    "print(\"Average: \", total/count)"
   ]
  },
  {
   "cell_type": "code",
   "execution_count": 12,
   "metadata": {},
   "outputs": [
    {
     "name": "stdout",
     "output_type": "stream",
     "text": [
      "1 file.txt\n",
      "2 grades.txt\n"
     ]
    }
   ],
   "source": [
    "import os\n",
    "\n",
    "i = 1\n",
    "for file in os.listdir(\".\"):\n",
    "    if file.endswith(\".txt\"):\n",
    "        print(i,file)\n",
    "        i +=1"
   ]
  },
  {
   "cell_type": "code",
   "execution_count": 26,
   "metadata": {},
   "outputs": [
    {
     "name": "stdout",
     "output_type": "stream",
     "text": [
      "[Errno 13] Permission denied: '/etc/shadow'\n"
     ]
    }
   ],
   "source": [
    "try:\n",
    "    with open ('/etc/shadow','r') as pwd:\n",
    "        text = pwd.read()\n",
    "        print(text)\n",
    "except PermissionError as err:\n",
    "    print(err)"
   ]
  },
  {
   "cell_type": "code",
   "execution_count": 25,
   "metadata": {},
   "outputs": [
    {
     "ename": "NameError",
     "evalue": "name 'err' is not defined",
     "output_type": "error",
     "traceback": [
      "\u001b[0;31m---------------------------------------------------------------------------\u001b[0m",
      "\u001b[0;31mNameError\u001b[0m                                 Traceback (most recent call last)",
      "\u001b[0;32m<ipython-input-25-2bf90dbe447d>\u001b[0m in \u001b[0;36m<module>\u001b[0;34m()\u001b[0m\n\u001b[0;32m----> 1\u001b[0;31m \u001b[0mdir\u001b[0m\u001b[0;34m(\u001b[0m\u001b[0merr\u001b[0m\u001b[0;34m)\u001b[0m\u001b[0;34m\u001b[0m\u001b[0m\n\u001b[0m",
      "\u001b[0;31mNameError\u001b[0m: name 'err' is not defined"
     ]
    }
   ],
   "source": []
  },
  {
   "cell_type": "code",
   "execution_count": null,
   "metadata": {},
   "outputs": [],
   "source": []
  }
 ],
 "metadata": {
  "kernelspec": {
   "display_name": "Python 3.6",
   "language": "python",
   "name": "python36"
  },
  "language_info": {
   "codemirror_mode": {
    "name": "ipython",
    "version": 3
   },
   "file_extension": ".py",
   "mimetype": "text/x-python",
   "name": "python",
   "nbconvert_exporter": "python",
   "pygments_lexer": "ipython3",
   "version": "3.6.3"
  }
 },
 "nbformat": 4,
 "nbformat_minor": 2
}
